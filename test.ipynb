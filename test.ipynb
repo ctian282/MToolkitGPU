{
 "cells": [
  {
   "cell_type": "code",
   "execution_count": 1,
   "id": "a5d8a71e-6173-4267-9ef8-f7f07e4934f3",
   "metadata": {},
   "outputs": [],
   "source": [
    "import MTools\n",
    "import numpy as np\n",
    "\n"
   ]
  },
  {
   "cell_type": "code",
   "execution_count": 2,
   "id": "61bab98a-fda3-4b78-a5aa-343ad2282733",
   "metadata": {},
   "outputs": [],
   "source": [
    "mt = MTools.MTools(use_svd=True)"
   ]
  },
  {
   "cell_type": "markdown",
   "id": "ac5917f1-826b-4cc6-9d5b-8a99ae9a0cd3",
   "metadata": {},
   "source": [
    "# Matrix MM"
   ]
  },
  {
   "cell_type": "code",
   "execution_count": 3,
   "id": "c3a4a23b-2780-4cc2-8446-6ea2bcb05782",
   "metadata": {},
   "outputs": [],
   "source": [
    "\n",
    "m1 = 6\n",
    "n1 = 4\n",
    "m2 = n1\n",
    "n2 = 4\n",
    "m3 = m1\n",
    "n3 = n2\n",
    "\n"
   ]
  },
  {
   "cell_type": "code",
   "execution_count": 4,
   "id": "7ea95838-eb37-4c87-84c4-f114b4b4d19c",
   "metadata": {},
   "outputs": [],
   "source": [
    "mat1 = np.random.rand(m1, n1)\n",
    "mat2 = np.random.rand(m2, n2)\n",
    "mat3 = np.random.rand(m3, n3)\n",
    "\n",
    "mt.set_m1(mat1)\n",
    "\n",
    "mt.set_m2(mat2)\n",
    "mt.set_m3(mat3)\n"
   ]
  },
  {
   "cell_type": "code",
   "execution_count": 5,
   "id": "60318df2-6e77-4884-a80b-4ddf930db5c0",
   "metadata": {},
   "outputs": [],
   "source": [
    "m3true = np.matmul(mat1, mat2)"
   ]
  },
  {
   "cell_type": "code",
   "execution_count": 6,
   "id": "f6e2c890-de55-4f7c-888a-e027d4602adb",
   "metadata": {},
   "outputs": [],
   "source": [
    "mt.mm12()\n",
    "m3gpu = mt.get_m3()"
   ]
  },
  {
   "cell_type": "code",
   "execution_count": 7,
   "id": "52835c85-16a2-4413-b897-15f6575b57c9",
   "metadata": {},
   "outputs": [
    {
     "data": {
      "text/plain": [
       "4.440892098500626e-16"
      ]
     },
     "execution_count": 7,
     "metadata": {},
     "output_type": "execute_result"
    }
   ],
   "source": [
    "np.abs(m3true - m3gpu).max()"
   ]
  },
  {
   "cell_type": "markdown",
   "id": "451203b4-d616-49f4-8d0b-0edf2f3130ee",
   "metadata": {},
   "source": [
    "# Matrix eigen"
   ]
  },
  {
   "cell_type": "code",
   "execution_count": 8,
   "id": "1043e0f5-81be-4baa-aee4-2803017e3737",
   "metadata": {},
   "outputs": [],
   "source": [
    "m1 = 4\n",
    "n1 = 4\n",
    "\n",
    "\n",
    "mat1 = np.random.rand(m1, n1)\n",
    "\n",
    "\n",
    "\n",
    "m1sy = mat1.copy() \n",
    "\n",
    "for i in range(m1):\n",
    "    for j in range(i+1, m1):\n",
    "        m1sy[i][j] = m1sy[j][i]\n",
    "        \n",
    "mt.set_m1(m1sy)"
   ]
  },
  {
   "cell_type": "code",
   "execution_count": 9,
   "id": "705e7439-453e-4bc8-ae9e-7b812d6f1620",
   "metadata": {},
   "outputs": [],
   "source": [
    "mt.m1_eigen()"
   ]
  },
  {
   "cell_type": "code",
   "execution_count": 10,
   "id": "6759cdb2-5c6f-4b99-b362-67dce906abe6",
   "metadata": {},
   "outputs": [
    {
     "name": "stdout",
     "output_type": "stream",
     "text": [
      "[-0.72854772 -0.22194983  0.77054468  2.09574054]\n"
     ]
    }
   ],
   "source": [
    "# Eigen values\n",
    "W1=mt.get_W1()\n",
    "print(W1)"
   ]
  },
  {
   "cell_type": "code",
   "execution_count": 11,
   "id": "8dcbf369-742a-456d-9521-4bd1fe01fd9d",
   "metadata": {},
   "outputs": [
    {
     "name": "stdout",
     "output_type": "stream",
     "text": [
      "[[-0.33392797  0.04945645 -0.81638355  0.46857665]\n",
      " [-0.60886559 -0.17562469  0.55040866  0.54358897]\n",
      " [ 0.65854474 -0.50799064  0.01836005  0.55491192]\n",
      " [ 0.28998901  0.84181681  0.17387099  0.42073711]]\n"
     ]
    }
   ],
   "source": [
    "# Eigen vectors\n",
    "v1 = mt.get_m1()\n",
    "print(v1)"
   ]
  },
  {
   "cell_type": "code",
   "execution_count": 12,
   "id": "baff085f-a88e-4ebb-946d-21a709000643",
   "metadata": {},
   "outputs": [
    {
     "data": {
      "text/plain": [
       "(array([ 2.09574054,  0.77054468, -0.72854772, -0.22194983]),\n",
       " array([[ 0.46857665,  0.81638355,  0.33392797,  0.04945645],\n",
       "        [ 0.54358897, -0.55040866,  0.60886559, -0.17562469],\n",
       "        [ 0.55491192, -0.01836005, -0.65854474, -0.50799064],\n",
       "        [ 0.42073711, -0.17387099, -0.28998901,  0.84181681]]))"
      ]
     },
     "execution_count": 12,
     "metadata": {},
     "output_type": "execute_result"
    }
   ],
   "source": [
    "# True value\n",
    "np.linalg.eig(m1sy)"
   ]
  },
  {
   "cell_type": "markdown",
   "id": "9932abc1-f685-472f-bad2-f861287d95ce",
   "metadata": {},
   "source": [
    "# Matrix SVD"
   ]
  },
  {
   "cell_type": "code",
   "execution_count": 13,
   "id": "4772aa65-e363-4ae2-bb8d-da6ea428c5d2",
   "metadata": {},
   "outputs": [],
   "source": [
    "m1 = 6\n",
    "n1 = 4\n",
    "\n",
    "mat1 = np.random.rand(m1, n1)\n",
    "\n",
    "mat1_bak = mat1.copy()\n",
    "\n",
    "\n",
    "mt.set_m1(mat1)\n",
    "\n"
   ]
  },
  {
   "cell_type": "code",
   "execution_count": 14,
   "id": "ac96a2ce-16bf-4e6b-bb9d-55daa064fc69",
   "metadata": {},
   "outputs": [],
   "source": [
    "mt.m1_svd()"
   ]
  },
  {
   "cell_type": "code",
   "execution_count": 15,
   "id": "44e48638-8d02-4f93-9d23-bb18e31aae24",
   "metadata": {},
   "outputs": [],
   "source": [
    "S1 = mt.get_S1()\n",
    "VT1 = mt.get_VT1()\n",
    "U1 = mt.get_U1()"
   ]
  },
  {
   "cell_type": "code",
   "execution_count": 16,
   "id": "de48c1a3-e953-4a34-8385-90efe0d95a67",
   "metadata": {},
   "outputs": [
    {
     "data": {
      "text/plain": [
       "(array([2.58523424, 0.83548504, 0.58800774, 0.3471599 ]),\n",
       " array([[-0.47957215,  0.        ,  0.12706485, -0.72794958],\n",
       "        [ 0.28225888,  0.        , -0.1287462 ,  0.28612451],\n",
       "        [-0.1575155 , -0.36114162,  0.        ,  0.4389906 ],\n",
       "        [-0.81579982, -0.91479816,  0.        ,  0.44216448]]),\n",
       " array([[-0.53835004,  0.31515105, -0.1415671 , -0.36622513, -0.67555308,\n",
       "         -0.01802749],\n",
       "        [-0.33803045,  0.19933835,  0.50220054,  0.25670621,  0.13700805,\n",
       "         -0.71352994],\n",
       "        [-0.29182874, -0.37310209, -0.1929151 ,  0.78483943, -0.32967006,\n",
       "          0.11730003],\n",
       "        [-0.3105351 , -0.45245378, -0.58201158, -0.27573428,  0.31922647,\n",
       "         -0.42682681],\n",
       "        [-0.47130206,  0.50359424, -0.21113244,  0.18348597,  0.54498597,\n",
       "          0.38602266],\n",
       "        [-0.43839817, -0.51324194,  0.55427678, -0.27260162,  0.1313744 ,\n",
       "          0.38157061]]))"
      ]
     },
     "execution_count": 16,
     "metadata": {},
     "output_type": "execute_result"
    }
   ],
   "source": [
    "S1, VT1, U1"
   ]
  },
  {
   "cell_type": "code",
   "execution_count": 17,
   "id": "57826dfc-bd63-4c05-bd8d-bc15feca2a1c",
   "metadata": {},
   "outputs": [
    {
     "data": {
      "text/plain": [
       "(array([[-0.53835004,  0.31515105, -0.1415671 , -0.36622513, -0.67555308,\n",
       "         -0.01802749],\n",
       "        [-0.33803045,  0.19933835,  0.50220054,  0.25670621,  0.13700805,\n",
       "         -0.71352994],\n",
       "        [-0.29182874, -0.37310209, -0.1929151 ,  0.78483943, -0.32967006,\n",
       "          0.11730003],\n",
       "        [-0.3105351 , -0.45245378, -0.58201158, -0.27573428,  0.31922647,\n",
       "         -0.42682681],\n",
       "        [-0.47130206,  0.50359424, -0.21113244,  0.18348597,  0.54498597,\n",
       "          0.38602266],\n",
       "        [-0.43839817, -0.51324194,  0.55427678, -0.27260162,  0.1313744 ,\n",
       "          0.38157061]]),\n",
       " array([2.58523424, 0.83548504, 0.58800774, 0.3471599 ]),\n",
       " array([[-0.47957215, -0.36114162, -0.72794958, -0.33117471],\n",
       "        [ 0.28225888, -0.91479816,  0.28612451, -0.04008766],\n",
       "        [-0.1575155 ,  0.12706485,  0.4389906 , -0.87540313],\n",
       "        [-0.81579982, -0.1287462 ,  0.44216448,  0.3498366 ]]))"
      ]
     },
     "execution_count": 17,
     "metadata": {},
     "output_type": "execute_result"
    }
   ],
   "source": [
    "np.linalg.svd(mat1_bak)"
   ]
  },
  {
   "cell_type": "code",
   "execution_count": null,
   "id": "f079a44d-4253-4105-a549-e9b3a9916233",
   "metadata": {},
   "outputs": [],
   "source": []
  }
 ],
 "metadata": {
  "kernelspec": {
   "display_name": "Python 3 (ipykernel)",
   "language": "python",
   "name": "python3"
  },
  "language_info": {
   "codemirror_mode": {
    "name": "ipython",
    "version": 3
   },
   "file_extension": ".py",
   "mimetype": "text/x-python",
   "name": "python",
   "nbconvert_exporter": "python",
   "pygments_lexer": "ipython3",
   "version": "3.9.7"
  }
 },
 "nbformat": 4,
 "nbformat_minor": 5
}
