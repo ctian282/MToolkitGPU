{
 "cells": [
  {
   "cell_type": "code",
   "execution_count": 1,
   "id": "a5d8a71e-6173-4267-9ef8-f7f07e4934f3",
   "metadata": {},
   "outputs": [],
   "source": [
    "import MTools\n",
    "import numpy as np\n",
    "\n"
   ]
  },
  {
   "cell_type": "code",
   "execution_count": 2,
   "id": "61bab98a-fda3-4b78-a5aa-343ad2282733",
   "metadata": {},
   "outputs": [],
   "source": [
    "mt = MTools.MTools()"
   ]
  },
  {
   "cell_type": "code",
   "execution_count": 3,
   "id": "c3a4a23b-2780-4cc2-8446-6ea2bcb05782",
   "metadata": {},
   "outputs": [],
   "source": [
    "\n",
    "m1 = 4\n",
    "n1 = 4\n",
    "m2 = n1\n",
    "n2 = 4\n",
    "\n",
    "m3 = m1\n",
    "n3 = n2"
   ]
  },
  {
   "cell_type": "code",
   "execution_count": 4,
   "id": "7ea95838-eb37-4c87-84c4-f114b4b4d19c",
   "metadata": {},
   "outputs": [],
   "source": [
    "mat1 = np.random.rand(m1, n1)\n",
    "mat2 = np.random.rand(m2, n2)\n",
    "mat3 = np.random.rand(m3, n3)\n",
    "\n",
    "\n",
    "\n",
    "\n",
    "mt.set_m1(mat1)\n",
    "\n",
    "mt.set_m2(mat2)\n",
    "mt.set_m3(mat3)\n",
    "\n"
   ]
  },
  {
   "cell_type": "code",
   "execution_count": null,
   "id": "60318df2-6e77-4884-a80b-4ddf930db5c0",
   "metadata": {},
   "outputs": [],
   "source": []
  },
  {
   "cell_type": "code",
   "execution_count": 5,
   "id": "b6ab8d23-26ee-4c2f-a519-adb6e5604546",
   "metadata": {},
   "outputs": [
    {
     "name": "stdout",
     "output_type": "stream",
     "text": [
      "CPU times: user 12 µs, sys: 11 µs, total: 23 µs\n",
      "Wall time: 24.8 µs\n"
     ]
    }
   ],
   "source": [
    "%%time\n",
    "m3true = np.matmul(mat1, mat2)"
   ]
  },
  {
   "cell_type": "code",
   "execution_count": 6,
   "id": "f6e2c890-de55-4f7c-888a-e027d4602adb",
   "metadata": {},
   "outputs": [
    {
     "name": "stdout",
     "output_type": "stream",
     "text": [
      "4 4\n",
      "CPU times: user 96 µs, sys: 86 µs, total: 182 µs\n",
      "Wall time: 177 µs\n"
     ]
    }
   ],
   "source": [
    "%%time\n",
    "mt.mm12()\n",
    "m3gpu = mt.get_m3()"
   ]
  },
  {
   "cell_type": "code",
   "execution_count": 7,
   "id": "52835c85-16a2-4413-b897-15f6575b57c9",
   "metadata": {},
   "outputs": [
    {
     "data": {
      "text/plain": [
       "2.220446049250313e-16"
      ]
     },
     "execution_count": 7,
     "metadata": {},
     "output_type": "execute_result"
    }
   ],
   "source": [
    "np.abs(m3true - m3gpu).max()"
   ]
  },
  {
   "cell_type": "code",
   "execution_count": 8,
   "id": "1043e0f5-81be-4baa-aee4-2803017e3737",
   "metadata": {},
   "outputs": [],
   "source": [
    "m1sy = mat1.copy() \n",
    "\n",
    "for i in range(m1):\n",
    "    for j in range(i+1, m1):\n",
    "        m1sy[i][j] = m1sy[j][i]"
   ]
  },
  {
   "cell_type": "code",
   "execution_count": 9,
   "id": "c017b4cb-6ec3-487f-9fe2-e96658662a86",
   "metadata": {},
   "outputs": [],
   "source": [
    "mt.set_m1(m1sy)"
   ]
  },
  {
   "cell_type": "code",
   "execution_count": 10,
   "id": "705e7439-453e-4bc8-ae9e-7b812d6f1620",
   "metadata": {},
   "outputs": [],
   "source": [
    "mt.m1_eigen()"
   ]
  },
  {
   "cell_type": "code",
   "execution_count": 11,
   "id": "6759cdb2-5c6f-4b99-b362-67dce906abe6",
   "metadata": {},
   "outputs": [],
   "source": [
    "W1=mt.get_W1()"
   ]
  },
  {
   "cell_type": "code",
   "execution_count": 12,
   "id": "8dcbf369-742a-456d-9521-4bd1fe01fd9d",
   "metadata": {},
   "outputs": [
    {
     "data": {
      "text/plain": [
       "array([-0.736416  ,  0.36440068,  0.90985076,  2.07459823])"
      ]
     },
     "execution_count": 12,
     "metadata": {},
     "output_type": "execute_result"
    }
   ],
   "source": [
    "W1"
   ]
  },
  {
   "cell_type": "code",
   "execution_count": 18,
   "id": "43977c8a-fa88-422c-a032-2c0418d1bc10",
   "metadata": {},
   "outputs": [
    {
     "data": {
      "text/plain": [
       "array([[ 0.69271544, -0.45690046, -0.3258788 , -0.45297935],\n",
       "       [-0.5962131 , -0.45243564,  0.23107434, -0.62164024],\n",
       "       [ 0.27559535,  0.63399935,  0.4653144 , -0.55278797],\n",
       "       [-0.29786316,  0.42963797, -0.78986718, -0.32062218]])"
      ]
     },
     "execution_count": 18,
     "metadata": {},
     "output_type": "execute_result"
    }
   ],
   "source": [
    "mt.get_m1()"
   ]
  },
  {
   "cell_type": "code",
   "execution_count": 19,
   "id": "36acb55e-2fb2-4005-96e5-31cb10896054",
   "metadata": {},
   "outputs": [
    {
     "data": {
      "text/plain": [
       "(array([-0.736416  ,  2.07459823,  0.36440068,  0.90985076]),\n",
       " array([[ 0.69271544, -0.45297935, -0.45690046,  0.3258788 ],\n",
       "        [-0.5962131 , -0.62164024, -0.45243564, -0.23107434],\n",
       "        [ 0.27559535, -0.55278797,  0.63399935, -0.4653144 ],\n",
       "        [-0.29786316, -0.32062218,  0.42963797,  0.78986718]]))"
      ]
     },
     "execution_count": 19,
     "metadata": {},
     "output_type": "execute_result"
    }
   ],
   "source": [
    "np.linalg.eig(m1sy)"
   ]
  },
  {
   "cell_type": "code",
   "execution_count": null,
   "id": "57826dfc-bd63-4c05-bd8d-bc15feca2a1c",
   "metadata": {},
   "outputs": [],
   "source": []
  }
 ],
 "metadata": {
  "kernelspec": {
   "display_name": "Python 3 (ipykernel)",
   "language": "python",
   "name": "python3"
  },
  "language_info": {
   "codemirror_mode": {
    "name": "ipython",
    "version": 3
   },
   "file_extension": ".py",
   "mimetype": "text/x-python",
   "name": "python",
   "nbconvert_exporter": "python",
   "pygments_lexer": "ipython3",
   "version": "3.9.7"
  }
 },
 "nbformat": 4,
 "nbformat_minor": 5
}
